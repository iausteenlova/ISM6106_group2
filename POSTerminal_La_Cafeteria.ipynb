{
 "cells": [
  {
   "cell_type": "markdown",
   "id": "9ca4ef84",
   "metadata": {},
   "source": [
    "### Python Notebook file of POSTerminal\n",
    "> Includes classes, attributes and methods of POSTerminal of La Cafeteria"
   ]
  },
  {
   "cell_type": "code",
   "execution_count": 2,
   "id": "affcb98b",
   "metadata": {},
   "outputs": [],
   "source": [
    "class cashier:\n",
    "    def __init__(self, cashierLoginID, cashierName, cashierPassword):\n",
    "        self.cashierLoginID = cashierLoginID\n",
    "        self.cashierName = cashierName\n",
    "        self.cashierPassword = cashierPassword\n",
    "        global T \n",
    "    def enteritem(x):\n",
    "        print(f\"Item Added: {x}\")\n",
    "        print(f\"Total:{T+X}\")\n",
    "    def ValidatePassword(x):\n",
    "        if x == self.cashierPassword:\n",
    "            print(\"Logged In successfully\")\n",
    "        else:\n",
    "            print(\"Invalid Credentials - Try Again\")"
   ]
  },
  {
   "cell_type": "code",
   "execution_count": 3,
   "id": "e8f2e4e1",
   "metadata": {},
   "outputs": [],
   "source": [
    "class cashdrawer:\n",
    "    def __init__(self, Balance):\n",
    "        self.Balance = Balance\n",
    "    def OpenRegister(x):\n",
    "        print(\"Cash Drawer Opened\")\n",
    "    def CloseRegister(x):\n",
    "        print(\"Cash Drawer closed\")\n",
    "    def Addmoney():\n",
    "        x = input(print('enter amount:'))\n",
    "        y = input(print('reason:'))\n",
    "        openRegister(x)\n",
    "    def Withdrawmoney():\n",
    "        x = input(print('enter amount:'))\n",
    "        y = input(print('reason:'))\n",
    "        openRegister(x)\n",
    "    def Exchangemoney():\n",
    "        x =  input(print('Deposit Bill value: '))\n",
    "        openRegister(x)"
   ]
  },
  {
   "cell_type": "code",
   "execution_count": 4,
   "id": "24911208",
   "metadata": {},
   "outputs": [],
   "source": [
    "class scanner:\n",
    "    def __init__(self, ItemBarcode, ItemName, ItemPrice):\n",
    "        self.ItemBarcode = ItemBarcode\n",
    "        self.ItemName = ItemName\n",
    "        self.ItemPrice = ItemPrice"
   ]
  },
  {
   "cell_type": "code",
   "execution_count": 5,
   "id": "02016e7a",
   "metadata": {},
   "outputs": [],
   "source": [
    "class Product:\n",
    "    def __inint__(self, ProductspecID, ProductspecName, ProductspecDescription, ProductspecPrice):\n",
    "        self.ProductspecID = ProductspecID\n",
    "        self.ProductspecName = ProductspecName\n",
    "        self.ProductspecDescription = ProductspecDescription\n",
    "        self.ProductspecPrice = ProductspecPrice\n",
    "        \n",
    "    def ViewProductspecDescription(x):\n",
    "        print(f'{ProductspecID} - {ProductspecName}')\n",
    "        print(ProductspecDescription)\n",
    "        print(f\"Unit cost: {ProductspecPrice}\")"
   ]
  },
  {
   "cell_type": "code",
   "execution_count": 6,
   "id": "fbbd7a3a",
   "metadata": {},
   "outputs": [],
   "source": [
    "class Terminal:\n",
    "    def __inint__(self, TerminalID, DisplayID, StoreName):\n",
    "        self.TerminalID = TerminalID\n",
    "        self.DisplayID = DisplayID\n",
    "        self.StoreName = StoreName\n",
    "        \n",
    "    \n",
    "    def showhomescreen():\n",
    "        print('HomeScreen')\n",
    "    def PowerOn():\n",
    "        print('POSTerminal - Welcome to La Cafeteria')\n",
    "        showhomescreen()\n",
    "    def Poweroff():\n",
    "        print('PosTerminal - Good Bye')\n",
    "    def closehomescreen():\n",
    "        print('Lockscreen') # When you click lock\n",
    "    def viewcashrepot(x):\n",
    "        date == x\n",
    "        print(f'Total amount in cash register: {cashdrawer.Balance}')\n",
    "    def showitemdetail(xx):\n",
    "        itemBarcode == xx\n",
    "        print(f\"details: {Product.ViewProductspecDescription(xx)}\")\n",
    "    def getsubtotal():\n",
    "        listitems = list(Product.ProductspecID)\n",
    "        tx = 0\n",
    "        for i in listitems:\n",
    "            tx = sum(Product.ProductspecPrice)\n",
    "        return tx\n",
    "    def gettax(tx):\n",
    "        tax = getsubtotal * 0.07\n",
    "        return tax\n",
    "    def gettotal(tx):\n",
    "        total = gettax + getsubtotal\n",
    "        return total\n",
    "    def prnt(x):\n",
    "        print('prints order ID, transactionID, itemname and price, getsubtotal, get tax, total ')"
   ]
  },
  {
   "cell_type": "code",
   "execution_count": 7,
   "id": "8ce24a48",
   "metadata": {},
   "outputs": [],
   "source": [
    "class Sale:\n",
    "    def __inint__(self, Trid, TrDate, TrTime):\n",
    "        self.Trid = Trid\n",
    "        self.TrDate = TrDate\n",
    "        self.TrTime = TrTime\n",
    "        \n",
    "    def printorder():\n",
    "        print('printing order details')\n",
    "    def viewsales():\n",
    "        print('displays sales overview of the same day')\n",
    "    def setpayment(x):\n",
    "        if x == \"Debit\":\n",
    "            payment.paymenttype == Debit\n",
    "            processpayment(x)\n",
    "        elif x == \"Credit\":\n",
    "            payment.paymenttype == Credit\n",
    "            processpayment(x)\n",
    "        elif x == \"Cash\":\n",
    "            payment.paymenttype == Cash\n",
    "            processpayment(x)\n",
    "        else :\n",
    "            setpayment(x)\n",
    "    def Switchpayment(x):\n",
    "        if payment.paymenttype is not null:\n",
    "            setpayment(x)\n",
    "        else :\n",
    "            None\n",
    "    def cancelpayment(x):\n",
    "        print(f\"transaction cancelled : {Trid}\")\n",
    "    def Paymentsuccessful(x):\n",
    "        print(f\"transaction successful : {Trid}\")"
   ]
  },
  {
   "cell_type": "code",
   "execution_count": 8,
   "id": "6873a288",
   "metadata": {},
   "outputs": [],
   "source": [
    "def scaleID(x):\n",
    "    def __init__(self, ScaleId):\n",
    "        self.ScaleId = ScaleId\n",
    "        \n",
    "    def weightcount(x):\n",
    "        print(f\"weight of the {Product.ProductspecName} = {x}\")"
   ]
  },
  {
   "cell_type": "code",
   "execution_count": 9,
   "id": "1e229809",
   "metadata": {},
   "outputs": [],
   "source": [
    "def Creditcard(x):\n",
    "    def __init__(self, Cardnumber, ExpDate):\n",
    "        self.Cardnumber = Cardnumber\n",
    "        self.ExpDate = ExpDate"
   ]
  },
  {
   "cell_type": "code",
   "execution_count": 10,
   "id": "4723cb83",
   "metadata": {},
   "outputs": [],
   "source": [
    "def Debitcard(x):\n",
    "    def __init__(self, Cardnumber, ExpDate):\n",
    "        self.Cardnumber = Cardnumber\n",
    "        self.ExpDate = ExpDate"
   ]
  },
  {
   "cell_type": "code",
   "execution_count": null,
   "id": "5a776318",
   "metadata": {},
   "outputs": [],
   "source": []
  },
  {
   "cell_type": "code",
   "execution_count": null,
   "id": "dd6eb9fe",
   "metadata": {},
   "outputs": [],
   "source": []
  }
 ],
 "metadata": {
  "kernelspec": {
   "display_name": "Python 3 (ipykernel)",
   "language": "python",
   "name": "python3"
  },
  "language_info": {
   "codemirror_mode": {
    "name": "ipython",
    "version": 3
   },
   "file_extension": ".py",
   "mimetype": "text/x-python",
   "name": "python",
   "nbconvert_exporter": "python",
   "pygments_lexer": "ipython3",
   "version": "3.9.12"
  }
 },
 "nbformat": 4,
 "nbformat_minor": 5
}
